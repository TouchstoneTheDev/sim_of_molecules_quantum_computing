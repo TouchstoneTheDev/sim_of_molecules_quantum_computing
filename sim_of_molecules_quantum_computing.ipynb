{
 "cells": [
  {
   "cell_type": "markdown",
   "metadata": {
    "tags": [
     "remove_cell"
    ]
   },
   "source": [
    "# Simulation of Molecules using quantum computing"
   ]
  },
  {
   "cell_type": "code",
   "execution_count": null,
   "metadata": {
    "dotnet_interactive": {
     "language": "csharp"
    },
    "vscode": {
     "languageId": "dotnet-interactive.csharp"
    }
   },
   "outputs": [],
   "source": [
    "import numpy as numpy\n",
    "numpy.random.seed(999999)\n",
    "target_distr = numpy.random.rand(2)\n",
    "target_distr /= sum(target_distr)"
   ]
  },
  {
   "cell_type": "code",
   "execution_count": null,
   "metadata": {
    "dotnet_interactive": {
     "language": "csharp"
    },
    "vscode": {
     "languageId": "dotnet-interactive.csharp"
    }
   },
   "outputs": [],
   "source": [
    "from qiskit import QuantumCircuit, ClassicalRegister, QuantumRegister\n",
    "def get_var_form(params):\n",
    "    qr = QuantumRegister(1, name=\"q\")\n",
    "    cr = ClassicalRegister(1, name='c')\n",
    "    qc = QuantumCircuit(qr, cr)\n",
    "    qc.u3(params[0], params[1], params[2], qr[0])\n",
    "    qc.measure(qr, cr[0])\n",
    "    return qc"
   ]
  },
  {
   "cell_type": "code",
   "execution_count": null,
   "metadata": {
    "dotnet_interactive": {
     "language": "csharp"
    },
    "vscode": {
     "languageId": "dotnet-interactive.csharp"
    }
   },
   "outputs": [],
   "source": [
    "from qiskit import Aer, transpile, assemble\n",
    "backend = Aer.get_backend(\"qasm_simulator\")\n",
    "NUM_SHOTS = 10000\n",
    "\n",
    "def get_probab_distri(counts):\n",
    "    output_distr = [v / NUM_SHOTS for v in counts.values()]\n",
    "    if len(output_distr) == 1:\n",
    "        output_distr.append(1 - output_distr[0])\n",
    "    return output_distr\n",
    "\n",
    "def objective_function(params):\n",
    "    qc = get_var_form(params)\n",
    "    t_qc = transpile(qc, backend)\n",
    "    qobj = assemble(t_qc, shots=NUM_SHOTS)\n",
    "    result = backend.run(qobj).result()\n",
    "    output_distr = get_probab_distri(result.get_counts(qc))\n",
    "    cost = sum([numpy.abs(output_distr[i] - target_distr[i]) for i in range(2)])\n",
    "    return cost"
   ]
  },
  {
   "cell_type": "code",
   "execution_count": null,
   "metadata": {
    "dotnet_interactive": {
     "language": "csharp"
    },
    "vscode": {
     "languageId": "dotnet-interactive.csharp"
    }
   },
   "outputs": [
    {
     "name": "stdout",
     "output_type": "stream",
     "text": [
      "Traceback \u001b[1;36m(most recent call last)\u001b[0m:\n",
      "\u001b[1;36m  Input \u001b[1;32mIn [4]\u001b[1;36m in \u001b[1;35m<cell line: 1>\u001b[1;36m\u001b[0m\n",
      "\u001b[1;33m    from qiskit.aqua.components.optimizers import COBYLA\u001b[0m\n",
      "\u001b[1;31mModuleNotFoundError\u001b[0m\u001b[1;31m:\u001b[0m No module named 'qiskit.aqua'\n",
      "\n",
      "Use %tb to get the full traceback.\n"
     ]
    },
    {
     "data": {
      "text/html": [
       "\n",
       "<style>\n",
       ".button {\n",
       "  border: none;\n",
       "  color: white;\n",
       "  padding: 4px 8px;\n",
       "  text-align: center;\n",
       "  text-decoration: none;\n",
       "  display: inline-block;\n",
       "  font-size: 12px;\n",
       "  margin: 4px 2px;\n",
       "  transition-duration: 0.2s;\n",
       "  cursor: pointer;\n",
       "}\n",
       ".iqx-button {\n",
       "  background-color: #0f62fe; \n",
       "  color: white; \n",
       "}\n",
       ".iqx-button:hover {\n",
       "  background-color: #0043ce;\n",
       "  color: white;\n",
       "}\n",
       "</style>\n",
       "<a href=\"https://stackoverflow.com/search?q=ModuleNotFoundError: No module named 'qiskit.aqua'\" target='_blank'><button class='button iqx-button'>Search for solution online</button></a>\n"
      ],
      "text/plain": [
       "<IPython.core.display.HTML object>"
      ]
     },
     "metadata": {},
     "output_type": "display_data"
    }
   ],
   "source": [
    "from qiskit.utils import COBYLA\n",
    "\n",
    "optimizer = COBYLA(maxiter=500, tol=0.0001)\n",
    "\n",
    "params = numpy.random.rand(3)\n",
    "ret = optimizer.optimize(num_vars=3, objective_function=objective_function, initial_point=params)\n",
    "\n",
    "qc = get_var_form(ret[0])\n",
    "t_qc = transpile(qc, backend)\n",
    "qobj = assemble(t_qc, shots=NUM_SHOTS)\n",
    "counts = backend.run(qobj).result().get_counts(qc)\n",
    "output_distr = get_probab_distri(counts)\n",
    "\n",
    "print(\"Target Distribution:\", target_distr)\n",
    "print(\"Obtained Distribution:\", output_distr)\n",
    "print(\"Output Error (Manhattan Distance):\", ret[1])\n",
    "print(\"Parameters Found:\", ret[0])\n"
   ]
  }
 ],
 "metadata": {
  "kernelspec": {
   "display_name": ".NET (C#)",
   "language": "C#",
   "name": ".net-csharp"
  },
  "language_info": {
   "file_extension": ".cs",
   "mimetype": "text/x-csharp",
   "name": "C#",
   "pygments_lexer": "csharp",
   "version": "9.0"
  },
  "widgets": {
   "application/vnd.jupyter.widget-state+json": {
    "state": {},
    "version_major": 2,
    "version_minor": 0
   }
  }
 },
 "nbformat": 4,
 "nbformat_minor": 4
}
